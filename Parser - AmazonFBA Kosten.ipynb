{
 "cells": [
  {
   "cell_type": "code",
   "execution_count": 9,
   "metadata": {},
   "outputs": [],
   "source": [
    "import pandas as pd \n",
    "import numpy as np \n",
    "import json\n",
    "from pymongo import MongoClient\n",
    "import json"
   ]
  },
  {
   "cell_type": "markdown",
   "metadata": {},
   "source": [
    "Setup MongoDB: https://zellwk.com/blog/install-mongodb/"
   ]
  },
  {
   "cell_type": "markdown",
   "metadata": {},
   "source": [
    "### Erstelle Database"
   ]
  },
  {
   "cell_type": "code",
   "execution_count": 31,
   "metadata": {},
   "outputs": [],
   "source": [
    "client = MongoClient('localhost', 27017)"
   ]
  },
  {
   "cell_type": "code",
   "execution_count": 32,
   "metadata": {},
   "outputs": [],
   "source": [
    "db = client.Ecomerce\n",
    "collection_amazon_fee = db.AmazonGebühren\n",
    "collection_ppc_kosten = db.PpcGebühren\n",
    "collection_lagergebühren = db.Lagergebühren\n",
    "collection_sales = db.Sales\n",
    "collection_dailyppc = db.DailyPpcCost"
   ]
  },
  {
   "cell_type": "markdown",
   "metadata": {},
   "source": [
    "### Kosten Parser"
   ]
  },
  {
   "cell_type": "markdown",
   "metadata": {},
   "source": [
    "Website to get the sell reviews: https://sellercentral.amazon.de/payments/reports/custom/request?tbla_daterangereportstable=sort:%7B%22sortOrder%22%3A%22DESCENDING%22%7D;search:undefined;pagination:1;"
   ]
  },
  {
   "cell_type": "code",
   "execution_count": 1,
   "metadata": {},
   "outputs": [],
   "source": [
    "def cost_report_parser(file): \n",
    "    \n",
    "    # Read Data\n",
    "    df = pd.read_csv(file, skiprows = 6, decimal=',')  \n",
    "    temporary_dict = df.to_dict(\"records\")\n",
    "    \n",
    "    # Create lists for parsing\n",
    "    customer_data = []\n",
    "    werbekosten = []\n",
    "    lagergebühr = []\n",
    "    monatliche_gebühren = []\n",
    "    \n",
    "    \"\"\"\n",
    "    Export der Daten aus der CSV-Datei \n",
    "\n",
    "    \"\"\"\n",
    "    for element in temporary_dict: \n",
    "        # Create datetime stamp \n",
    "        tag = element['Datum/Uhrzeit'][0:2]\n",
    "        monat = element['Datum/Uhrzeit'][3:5]\n",
    "        jahr = element['Datum/Uhrzeit'][6:10]\n",
    "        datum = jahr + \"-\" + monat + \"-\" + tag\n",
    "        \n",
    "        # Produktkosten\n",
    "        if datum < \"2020-09-08\": \n",
    "            produktkosten = 3.35\n",
    "        else: \n",
    "            produktkosten = 2.22\n",
    "\n",
    "        \"\"\"\n",
    "        Verkaufte Einheiten\n",
    "\n",
    "        \"\"\"\n",
    "        if element[\"Typ\"] == \"Bestellung\":         \n",
    "            bestellnummer = element[\"Bestellnummer\"]       \n",
    "            uhrzeit = element['Datum/Uhrzeit'][11:19]\n",
    "            stunde = element['Datum/Uhrzeit'][11:13]\n",
    "            abrechnungsnummer = element['Abrechnungsnummer']\n",
    "            umsatz = element[\"Umsätze\"]\n",
    "            menge = element[\"Menge\"]\n",
    "            gewinn = element[\"Gesamt\"]\n",
    "            bundesland = element[\"Bundesland\"]\n",
    "            stadt = element['Ort der Bestellung']\n",
    "            gutschrift_versandkosten = element['Gutschrift für Versandkosten']\n",
    "            gutschrift_geschenkverpackung = element['Gutschrift für Geschenkverpackung']\n",
    "            rabatte_werbekosten = element['Rabatte aus Werbeaktionen']\n",
    "            verkaufsgebühren = element[\"Verkaufsgebühren\"]\n",
    "            gebühren_versand_durch_amazon = element['Gebühren zu Versand durch Amazon']\n",
    "            andere_transaktionsgebühren = element['Andere Transaktionsgebühren']\n",
    "            andere = element[\"Andere\"]\n",
    "\n",
    "            transaktionen = {\"iD\" : bestellnummer,\n",
    "                       \"datum\" : datum,\n",
    "                       \"uhrzeit\" : uhrzeit,\n",
    "                       \"stunde\" : stunde,\n",
    "                       \"währung\" : \"€\",\n",
    "                       \"umsatz\" : umsatz,\n",
    "                       \"menge\" : menge,\n",
    "                       \"gewinn\" : round(gewinn, 2),\n",
    "                       \"produktkosten\" : produktkosten * menge, \n",
    "                       \"gewinn_nach_produktkosten\" : round(float(gewinn) - (produktkosten * menge), 2),\n",
    "                       \"abrechnungsnummer\" : abrechnungsnummer, \n",
    "                       \"geodata\" : {\"bundesland\" : bundesland, \"stadt\" : stadt},\n",
    "                       \"kostenschlüssel\" : {\"gutschrift_versandkosten\" : gutschrift_versandkosten,\n",
    "                                            \"gutschrift_geschenkverpackung\" : gutschrift_geschenkverpackung,\n",
    "                                            \"rabatte_werbekosten\" : rabatte_werbekosten,\n",
    "                                            \"verkaufsgebühren\" : verkaufsgebühren,\n",
    "                                            \"gebühren_versand_durch_amazon\" : gebühren_versand_durch_amazon,\n",
    "                                            \"andere_transaktionsgebühren\" : andere_transaktionsgebühren,\n",
    "                                            \"andere\" : andere \n",
    "                                           }\n",
    "                         }\n",
    "\n",
    "\n",
    "            customer_data.append(transaktionen)\n",
    "\n",
    "\n",
    "        \"\"\"\n",
    "        Werbekosten\n",
    "\n",
    "        \"\"\"\n",
    "        if element[\"Typ\"] == 'Servicegebühr':\n",
    "            if element[\"Beschreibung\"] == \"Werbekosten\":\n",
    "                uhrzeit = element['Datum/Uhrzeit'][11:19]\n",
    "                kosten = element[\"Gesamt\"]\n",
    "                abrechnungsnummer = element[\"Abrechnungsnummer\"]\n",
    "\n",
    "                transaktionen_2 = {\"iD\" : abrechnungsnummer,\n",
    "                                   \"datum\" : datum,\n",
    "                                   \"uhrzeit\" : uhrzeit, \n",
    "                                   \"währung\" : \"€\",\n",
    "                                   \"kosten\" : kosten,\n",
    "                                   }          \n",
    "                werbekosten.append(transaktionen_2)\n",
    "\n",
    "        \"\"\"\n",
    "        Lagergebühr\n",
    "\n",
    "        \"\"\"    \n",
    "        if element[\"Typ\"] == 'Versand durch Amazon Lagergebühr': \n",
    "            uhrzeit = element['Datum/Uhrzeit'][11:19]\n",
    "            kosten = element[\"Gesamt\"]\n",
    "            abrechnungsnummer = element[\"Abrechnungsnummer\"]\n",
    "\n",
    "            transaktionen_3 = {\"iD\" : abrechnungsnummer,\n",
    "                               \"datum\" : datum,\n",
    "                               \"uhrzeit\" : uhrzeit, \n",
    "                               \"währung\" : \"€\",\n",
    "                               \"kosten\" : kosten,\n",
    "                               }          \n",
    "            lagergebühr.append(transaktionen_3)\n",
    "\n",
    "\n",
    "        \"\"\"\n",
    "        Monatliche Amazon Gebühren \n",
    "\n",
    "        \"\"\"\n",
    "        if element[\"Typ\"] == \"Servicegebühr\": \n",
    "            if element[\"Beschreibung\"] == 'SellerPayments_Report_Fee_Subscription':\n",
    "                uhrzeit = element['Datum/Uhrzeit'][11:19]\n",
    "                kosten = element[\"Gesamt\"]\n",
    "                abrechnungsnummer = element[\"Abrechnungsnummer\"]\n",
    "\n",
    "                transaktionen_4 = {\"iD\" : abrechnungsnummer,\n",
    "                                   \"datum\" : datum,\n",
    "                                   \"uhrzeit\" : uhrzeit,\n",
    "                                   \"währung\" : \"€\",\n",
    "                                   \"umsatz\" : kosten\n",
    "                                   }          \n",
    "                monatliche_gebühren.append(transaktionen_4)\n",
    "    \n",
    "    return customer_data, werbekosten, lagergebühr, monatliche_gebühren"
   ]
  },
  {
   "cell_type": "code",
   "execution_count": 5,
   "metadata": {},
   "outputs": [],
   "source": [
    "file = r'2020Apr.1-2020Okt.10CustomTransaction.csv'"
   ]
  },
  {
   "cell_type": "code",
   "execution_count": 37,
   "metadata": {},
   "outputs": [],
   "source": [
    "customer_data, werbekosten, lagergebühr, monatliche_gebühren = cost_report_parser(file)"
   ]
  },
  {
   "cell_type": "markdown",
   "metadata": {},
   "source": [
    "### Tägliche PPC Kosten Parser"
   ]
  },
  {
   "cell_type": "markdown",
   "metadata": {},
   "source": [
    "Website to get the sell reviews: https://sellercentral.amazon.de/payments/reports/custom/request?tbla_daterangereportstable=sort:%7B%22sortOrder%22%3A%22DESCENDING%22%7D;search:undefined;pagination:1;"
   ]
  },
  {
   "cell_type": "code",
   "execution_count": 38,
   "metadata": {},
   "outputs": [],
   "source": [
    "def daily_ppc_cost(file): \n",
    "    df_2 = pd.read_excel(file_2)  \n",
    "    temporary_dict_2 = df_2.to_dict(\"records\")\n",
    "    daily_ppc = []\n",
    "    \n",
    "    for element in temporary_dict_2: \n",
    "        datum = str(element[\"Datum\"])[:10]\n",
    "        klicks = element[\"Klicks\"]\n",
    "        kosten_pro_klick = element[\"Kosten pro Klick (CPC)\"]\n",
    "        ausgaben = element[\"Ausgaben\"]\n",
    "\n",
    "        daily_ppc_cost = {\n",
    "                       \"datum\" : datum,\n",
    "                       \"klicks\" : klicks, \n",
    "                       \"kosten_pro_klick\" : round(kosten_pro_klick, 2),\n",
    "                       \"ausgaben\" : round(ausgaben, 2), \n",
    "                       \"währung\" : \"€\"\n",
    "\n",
    "                           }          \n",
    "        daily_ppc.append(daily_ppc_cost)\n",
    "    return daily_ppc"
   ]
  },
  {
   "cell_type": "code",
   "execution_count": 39,
   "metadata": {},
   "outputs": [],
   "source": [
    "file_2 = r'/Users/jonasbirkendahl/Downloads/Sponsored Products Leistung im Zeitabschnitt report.xlsx'"
   ]
  },
  {
   "cell_type": "code",
   "execution_count": 41,
   "metadata": {},
   "outputs": [],
   "source": [
    "daily_ppc = daily_ppc_cost(file_2)"
   ]
  },
  {
   "cell_type": "markdown",
   "metadata": {},
   "source": [
    "### Daten in Kollektionen einfügen"
   ]
  },
  {
   "cell_type": "code",
   "execution_count": 42,
   "metadata": {},
   "outputs": [
    {
     "data": {
      "text/plain": [
       "<pymongo.results.InsertManyResult at 0x111f8f870>"
      ]
     },
     "execution_count": 42,
     "metadata": {},
     "output_type": "execute_result"
    }
   ],
   "source": [
    "collection_sales.insert_many(customer_data)"
   ]
  },
  {
   "cell_type": "code",
   "execution_count": 43,
   "metadata": {},
   "outputs": [
    {
     "data": {
      "text/plain": [
       "<pymongo.results.InsertManyResult at 0x12103a2d0>"
      ]
     },
     "execution_count": 43,
     "metadata": {},
     "output_type": "execute_result"
    }
   ],
   "source": [
    "collection_ppc_kosten.insert_many(werbekosten)"
   ]
  },
  {
   "cell_type": "code",
   "execution_count": 44,
   "metadata": {},
   "outputs": [
    {
     "data": {
      "text/plain": [
       "<pymongo.results.InsertManyResult at 0x120909910>"
      ]
     },
     "execution_count": 44,
     "metadata": {},
     "output_type": "execute_result"
    }
   ],
   "source": [
    "collection_lagergebühren.insert_many(lagergebühr)"
   ]
  },
  {
   "cell_type": "code",
   "execution_count": 45,
   "metadata": {},
   "outputs": [
    {
     "data": {
      "text/plain": [
       "<pymongo.results.InsertManyResult at 0x121045aa0>"
      ]
     },
     "execution_count": 45,
     "metadata": {},
     "output_type": "execute_result"
    }
   ],
   "source": [
    "collection_amazon_fee.insert_many(monatliche_gebühren)"
   ]
  },
  {
   "cell_type": "code",
   "execution_count": 46,
   "metadata": {},
   "outputs": [
    {
     "data": {
      "text/plain": [
       "<pymongo.results.InsertManyResult at 0x12100ec30>"
      ]
     },
     "execution_count": 46,
     "metadata": {},
     "output_type": "execute_result"
    }
   ],
   "source": [
    "collection_dailyppc.insert_many(daily_ppc)"
   ]
  }
 ],
 "metadata": {
  "kernelspec": {
   "display_name": "Python 3",
   "language": "python",
   "name": "python3"
  },
  "language_info": {
   "codemirror_mode": {
    "name": "ipython",
    "version": 3
   },
   "file_extension": ".py",
   "mimetype": "text/x-python",
   "name": "python",
   "nbconvert_exporter": "python",
   "pygments_lexer": "ipython3",
   "version": "3.7.6"
  }
 },
 "nbformat": 4,
 "nbformat_minor": 4
}
